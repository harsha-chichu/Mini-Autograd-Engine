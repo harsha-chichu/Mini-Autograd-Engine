{
  "nbformat": 4,
  "nbformat_minor": 0,
  "metadata": {
    "colab": {
      "provenance": []
    },
    "kernelspec": {
      "name": "python3",
      "display_name": "Python 3"
    },
    "language_info": {
      "name": "python"
    }
  },
  "cells": [
    {
      "cell_type": "code",
      "execution_count": null,
      "metadata": {
        "id": "gYbn9o8AylBP"
      },
      "outputs": [],
      "source": [
        "import math\n",
        "import random\n",
        "import numpy as np\n",
        "import matplotlib.pyplot as plt\n",
        "%matplotlib inline"
      ]
    },
    {
      "cell_type": "code",
      "source": [
        "def f(x):\n",
        "  return 4*x**2 - 3*x + 5"
      ],
      "metadata": {
        "id": "hMZMeJ970jtm"
      },
      "execution_count": null,
      "outputs": []
    },
    {
      "cell_type": "code",
      "source": [
        "f(3.0)"
      ],
      "metadata": {
        "colab": {
          "base_uri": "https://localhost:8080/"
        },
        "id": "R0K8j7Cp0woX",
        "outputId": "871b40a4-580c-4833-d3a8-b6855cdedf80"
      },
      "execution_count": null,
      "outputs": [
        {
          "output_type": "execute_result",
          "data": {
            "text/plain": [
              "32.0"
            ]
          },
          "metadata": {},
          "execution_count": 50
        }
      ]
    },
    {
      "cell_type": "code",
      "source": [
        "xs = np.arange(-5,5,0.25)\n",
        "ys = f(xs)\n",
        "ys"
      ],
      "metadata": {
        "colab": {
          "base_uri": "https://localhost:8080/"
        },
        "id": "SyCU0CrO0ydY",
        "outputId": "b1ca5f2f-96d5-4aad-969d-cf1a1a53f8b8"
      },
      "execution_count": null,
      "outputs": [
        {
          "output_type": "execute_result",
          "data": {
            "text/plain": [
              "array([120. , 109.5,  99.5,  90. ,  81. ,  72.5,  64.5,  57. ,  50. ,\n",
              "        43.5,  37.5,  32. ,  27. ,  22.5,  18.5,  15. ,  12. ,   9.5,\n",
              "         7.5,   6. ,   5. ,   4.5,   4.5,   5. ,   6. ,   7.5,   9.5,\n",
              "        12. ,  15. ,  18.5,  22.5,  27. ,  32. ,  37.5,  43.5,  50. ,\n",
              "        57. ,  64.5,  72.5,  81. ])"
            ]
          },
          "metadata": {},
          "execution_count": 51
        }
      ]
    },
    {
      "cell_type": "code",
      "source": [
        "plt.plot(xs,ys)"
      ],
      "metadata": {
        "colab": {
          "base_uri": "https://localhost:8080/",
          "height": 447
        },
        "id": "X7-u3ezH1C5S",
        "outputId": "5e0bebc6-6739-430b-c41c-b56e6aa60f08"
      },
      "execution_count": null,
      "outputs": [
        {
          "output_type": "execute_result",
          "data": {
            "text/plain": [
              "[<matplotlib.lines.Line2D at 0x7e9899637a90>]"
            ]
          },
          "metadata": {},
          "execution_count": 52
        },
        {
          "output_type": "display_data",
          "data": {
            "text/plain": [
              "<Figure size 640x480 with 1 Axes>"
            ],
            "image/png": "[encoded data removed]"
          },
          "metadata": {}
        }
      ]
    },
    {
      "cell_type": "code",
      "source": [
        " class Value:\n",
        "\n",
        "    def __init__(self,data, _children=(),_op='',label=''):\n",
        "      self.data = data\n",
        "      self.grad = 0.0\n",
        "      self._backward = lambda: None\n",
        "      self._prev = set(_children)\n",
        "      self._op = _op\n",
        "      self.label = label\n",
        "\n",
        "    def __repr__(self):\n",
        "      return f\"value(data={self.data})\"\n",
        "\n",
        "    def __add__(self,other):\n",
        "      other  = other if isinstance(other,Value) else Value(other)\n",
        "      out = Value(self.data + other.data,(self,other),'+')\n",
        "\n",
        "      def _backward():\n",
        "        self.grad += 1.0 * out.grad\n",
        "        other.grad += 1.0 * out.grad\n",
        "      out._backward = _backward\n",
        "\n",
        "      return out\n",
        "\n",
        "    def __mul__(self,other):\n",
        "      other  = other if isinstance(other,Value) else Value(other)\n",
        "\n",
        "      out = Value(self.data * other.data,(self,other),'*')\n",
        "\n",
        "      def _backward():\n",
        "        self.grad += other.data * out.grad\n",
        "        other.grad += self.data * out.grad\n",
        "      out._backward = _backward\n",
        "\n",
        "      return out\n",
        "\n",
        "    def __pow__(self,other):\n",
        "      assert isinstance(other,(int,float)), \"only supporting int/float powers for now\"\n",
        "      out = Value(self.data**other,(self,),f'**{other}')\n",
        "\n",
        "      def _backward():\n",
        "        self.grad += (other * self.data**(other-1)) * out.grad\n",
        "      out._backward = _backward\n",
        "\n",
        "      return out\n",
        "\n",
        "    def __rmul__(self,other):\n",
        "      return self * other\n",
        "\n",
        "    def __truediv__(self,other):\n",
        "      return self * other**-1\n",
        "\n",
        "    def __sub__(self,other):\n",
        "      return self + (-other)\n",
        "\n",
        "    def __neg__(self):\n",
        "      return self * -1\n",
        "\n",
        "\n",
        "    def tanh(self):\n",
        "      n = self.data\n",
        "      t = (math.exp(2*n)-1)/(math.exp(2*n)+1)\n",
        "      out = Value(t,(self,),'tanh')\n",
        "\n",
        "      def _backward():\n",
        "        self.grad += (1-t**2) * out.grad\n",
        "      out._backward = _backward\n",
        "\n",
        "      return out\n",
        "\n",
        "    def exp(self):\n",
        "      x = self.data\n",
        "      out = Value(math.exp(x),(self, ),'exp')\n",
        "\n",
        "      def _backward():\n",
        "        self.grad += out.data * out.grad\n",
        "      out._backward = _backward\n",
        "\n",
        "      return out\n",
        "\n",
        "\n",
        "    def backward(self):\n",
        "        \"\"\"Computes gradients using backpropagation.\"\"\"\n",
        "        topo = []\n",
        "        visited = set()\n",
        "\n",
        "        def build_topo(v):\n",
        "            if v not in visited:\n",
        "                visited.add(v)\n",
        "                for child in v._prev:\n",
        "                    build_topo(child)\n",
        "                topo.append(v)\n",
        "\n",
        "        build_topo(self)\n",
        "\n",
        "        self.grad = 1.0  # Initialize gradient for the final node\n",
        "        for node in reversed(topo):\n",
        "            node._backward()\n",
        "\n",
        "\n"
      ],
      "metadata": {
        "id": "MkHfYp4I5Ctg"
      },
      "execution_count": null,
      "outputs": []
    },
    {
      "cell_type": "code",
      "source": [
        "a = Value(9.0)\n",
        "b = Value(4.0)\n",
        "a - b"
      ],
      "metadata": {
        "colab": {
          "base_uri": "https://localhost:8080/"
        },
        "id": "ef_k6ToopLuu",
        "outputId": "ce81ad65-eb57-428d-e970-9077cbaf6820"
      },
      "execution_count": null,
      "outputs": [
        {
          "output_type": "execute_result",
          "data": {
            "text/plain": [
              "value(data=5.0)"
            ]
          },
          "metadata": {},
          "execution_count": 54
        }
      ]
    },
    {
      "cell_type": "code",
      "source": [],
      "metadata": {
        "id": "2pd-EOS3r0Ff"
      },
      "execution_count": null,
      "outputs": []
    },
    {
      "cell_type": "code",
      "source": [
        "from graphviz import Digraph\n",
        "\n",
        "def trace(root):\n",
        "  nodes,edges = set(),set()\n",
        "  def build(v):\n",
        "    if v not in nodes:\n",
        "      nodes.add(v)\n",
        "      for child in v._prev:\n",
        "        edges.add((child,v))\n",
        "        build(child)\n",
        "  build(root)\n",
        "  return nodes, edges\n",
        "\n",
        "def draw_dot(root):\n",
        "  dpt = Digraph(format='svg',graph_attr={'rankdir':'LR'})\n",
        "\n",
        "  nodes,edges = trace(root)\n",
        "  for n in nodes:\n",
        "    uid = str(id(n))\n",
        "    dpt.node(name=uid,label=\"{%s | data %.4f | grad %.4f}\" % (n.label,n.data,n.grad),shape='record')\n",
        "    if n._op:\n",
        "      dpt.node(name=uid+n._op,label=n._op)\n",
        "      dpt.edge(uid+n._op,uid)\n",
        "\n",
        "  for n1,n2 in edges:\n",
        "    dpt.edge(str(id(n1)),str(id(n2))+n2._op)\n",
        "  return dpt\n"
      ],
      "metadata": {
        "id": "lMmg0c1t6JaF"
      },
      "execution_count": null,
      "outputs": []
    },
    {
      "cell_type": "code",
      "source": [
        "x1 = Value(2.0,label='x1')\n",
        "x2 = Value(0.0,label='x2')\n",
        "\n",
        "w1 = Value(-3.0,label='w1')\n",
        "w2 = Value(1.0,label='w2')\n",
        "\n",
        "b = Value(6.8813735870195432,label='b')\n",
        "\n",
        "x1w1 = x1*w1; x1w1.label = 'x1w1'\n",
        "x2w2 = x2*w2; x2w2.label = 'x2w2'\n",
        "x1w1x2w2 = x1w1 + x2w2; x1w1x2w2.label = 'x1w1 + x2w2'\n",
        "n = x1w1x2w2 + b; n.label = 'n'\n",
        "o = n.tanh(); o.label ='o'\n",
        "o.backward()"
      ],
      "metadata": {
        "id": "1LQh986xHznb"
      },
      "execution_count": null,
      "outputs": []
    },
    {
      "cell_type": "code",
      "source": [
        "draw_dot(o)"
      ],
      "metadata": {
        "colab": {
          "base_uri": "https://localhost:8080/",
          "height": 322
        },
        "id": "SNLIjVLsJCW5",
        "outputId": "7ba1ba74-0d1f-4259-a2f9-e255daa63f52"
      },
      "execution_count": null,
      "outputs": [
        {
          "output_type": "execute_result",
          "data": {
            "image/svg+xml": "<?xml version=\"1.0\" encoding=\"UTF-8\" standalone=\"no\"?>\n<!DOCTYPE svg PUBLIC \"-//W3C//DTD SVG 1.1//EN\"\n \"http://www.w3.org/Graphics/SVG/1.1/DTD/svg11.dtd\">\n<!-- Generated by graphviz version 2.43.0 (0)\n -->\n<!-- Title: %3 Pages: 1 -->\n<svg width=\"1555pt\" height=\"210pt\"\n viewBox=\"0.00 0.00 1555.00 210.00\" xmlns=\"http://www.w3.org/2000/svg\" xmlns:xlink=\"http://www.w3.org/1999/xlink\">\n<g id=\"graph0\" class=\"graph\" transform=\"scale(1 1) rotate(0) translate(4 206)\">\n<title>%3</title>\n<polygon fill=\"white\" stroke=\"transparent\" points=\"-4,4 -4,-206 1551,-206 1551,4 -4,4\"/>\n<!-- 139193863626256 -->\n<g id=\"node1\" class=\"node\">\n<title>139193863626256</title>\n<polygon fill=\"none\" stroke=\"black\" points=\"328.5,-55.5 328.5,-91.5 537.5,-91.5 537.5,-55.5 328.5,-55.5\"/>\n<text text-anchor=\"middle\" x=\"352\" y=\"-69.8\" font-family=\"Times,serif\" font-size=\"14.00\">x2w2</text>\n<polyline fill=\"none\" stroke=\"black\" points=\"375.5,-55.5 375.5,-91.5 \"/>\n<text text-anchor=\"middle\" x=\"415.5\" y=\"-69.8\" font-family=\"Times,serif\" font-size=\"14.00\">data 0.0000</text>\n<polyline fill=\"none\" stroke=\"black\" points=\"455.5,-55.5 455.5,-91.5 \"/>\n<text text-anchor=\"middle\" x=\"496.5\" y=\"-69.8\" font-family=\"Times,serif\" font-size=\"14.00\">grad 0.5000</text>\n</g>\n<!-- 139193863622288+ -->\n<g id=\"node5\" class=\"node\">\n<title>139193863622288+</title>\n<ellipse fill=\"none\" stroke=\"black\" cx=\"603\" cy=\"-100.5\" rx=\"27\" ry=\"18\"/>\n<text text-anchor=\"middle\" x=\"603\" y=\"-96.8\" font-family=\"Times,serif\" font-size=\"14.00\">+</text>\n</g>\n<!-- 139193863626256&#45;&gt;139193863622288+ -->\n<g id=\"edge12\" class=\"edge\">\n<title>139193863626256&#45;&gt;139193863622288+</title>\n<path fill=\"none\" stroke=\"black\" d=\"M537.53,-90.14C547.8,-91.79 557.66,-93.37 566.45,-94.79\"/>\n<polygon fill=\"black\" stroke=\"black\" points=\"566.16,-98.28 576.59,-96.42 567.27,-91.37 566.16,-98.28\"/>\n</g>\n<!-- 139193863626256* -->\n<g id=\"node2\" class=\"node\">\n<title>139193863626256*</title>\n<ellipse fill=\"none\" stroke=\"black\" cx=\"263\" cy=\"-73.5\" rx=\"27\" ry=\"18\"/>\n<text text-anchor=\"middle\" x=\"263\" y=\"-69.8\" font-family=\"Times,serif\" font-size=\"14.00\">*</text>\n</g>\n<!-- 139193863626256*&#45;&gt;139193863626256 -->\n<g id=\"edge1\" class=\"edge\">\n<title>139193863626256*&#45;&gt;139193863626256</title>\n<path fill=\"none\" stroke=\"black\" d=\"M290.25,-73.5C298.43,-73.5 308.03,-73.5 318.31,-73.5\"/>\n<polygon fill=\"black\" stroke=\"black\" points=\"318.35,-77 328.35,-73.5 318.35,-70 318.35,-77\"/>\n</g>\n<!-- 139193863629392 -->\n<g id=\"node3\" class=\"node\">\n<title>139193863629392</title>\n<polygon fill=\"none\" stroke=\"black\" points=\"2.5,-55.5 2.5,-91.5 197.5,-91.5 197.5,-55.5 2.5,-55.5\"/>\n<text text-anchor=\"middle\" x=\"19\" y=\"-69.8\" font-family=\"Times,serif\" font-size=\"14.00\">w2</text>\n<polyline fill=\"none\" stroke=\"black\" points=\"35.5,-55.5 35.5,-91.5 \"/>\n<text text-anchor=\"middle\" x=\"75.5\" y=\"-69.8\" font-family=\"Times,serif\" font-size=\"14.00\">data 1.0000</text>\n<polyline fill=\"none\" stroke=\"black\" points=\"115.5,-55.5 115.5,-91.5 \"/>\n<text text-anchor=\"middle\" x=\"156.5\" y=\"-69.8\" font-family=\"Times,serif\" font-size=\"14.00\">grad 0.0000</text>\n</g>\n<!-- 139193863629392&#45;&gt;139193863626256* -->\n<g id=\"edge9\" class=\"edge\">\n<title>139193863629392&#45;&gt;139193863626256*</title>\n<path fill=\"none\" stroke=\"black\" d=\"M197.91,-73.5C207.65,-73.5 217.05,-73.5 225.52,-73.5\"/>\n<polygon fill=\"black\" stroke=\"black\" points=\"225.7,-77 235.7,-73.5 225.7,-70 225.7,-77\"/>\n</g>\n<!-- 139193863622288 -->\n<g id=\"node4\" class=\"node\">\n<title>139193863622288</title>\n<polygon fill=\"none\" stroke=\"black\" points=\"666,-82.5 666,-118.5 925,-118.5 925,-82.5 666,-82.5\"/>\n<text text-anchor=\"middle\" x=\"712\" y=\"-96.8\" font-family=\"Times,serif\" font-size=\"14.00\">x1w1 + x2w2</text>\n<polyline fill=\"none\" stroke=\"black\" points=\"758,-82.5 758,-118.5 \"/>\n<text text-anchor=\"middle\" x=\"800.5\" y=\"-96.8\" font-family=\"Times,serif\" font-size=\"14.00\">data &#45;6.0000</text>\n<polyline fill=\"none\" stroke=\"black\" points=\"843,-82.5 843,-118.5 \"/>\n<text text-anchor=\"middle\" x=\"884\" y=\"-96.8\" font-family=\"Times,serif\" font-size=\"14.00\">grad 0.5000</text>\n</g>\n<!-- 139193863622544+ -->\n<g id=\"node14\" class=\"node\">\n<title>139193863622544+</title>\n<ellipse fill=\"none\" stroke=\"black\" cx=\"988\" cy=\"-127.5\" rx=\"27\" ry=\"18\"/>\n<text text-anchor=\"middle\" x=\"988\" y=\"-123.8\" font-family=\"Times,serif\" font-size=\"14.00\">+</text>\n</g>\n<!-- 139193863622288&#45;&gt;139193863622544+ -->\n<g id=\"edge10\" class=\"edge\">\n<title>139193863622288&#45;&gt;139193863622544+</title>\n<path fill=\"none\" stroke=\"black\" d=\"M923.57,-118.51C933.55,-119.92 943,-121.26 951.42,-122.46\"/>\n<polygon fill=\"black\" stroke=\"black\" points=\"951.09,-125.95 961.48,-123.88 952.07,-119.01 951.09,-125.95\"/>\n</g>\n<!-- 139193863622288+&#45;&gt;139193863622288 -->\n<g id=\"edge2\" class=\"edge\">\n<title>139193863622288+&#45;&gt;139193863622288</title>\n<path fill=\"none\" stroke=\"black\" d=\"M630.09,-100.5C637.58,-100.5 646.3,-100.5 655.75,-100.5\"/>\n<polygon fill=\"black\" stroke=\"black\" points=\"655.84,-104 665.84,-100.5 655.84,-97 655.84,-104\"/>\n</g>\n<!-- 139193863464592 -->\n<g id=\"node6\" class=\"node\">\n<title>139193863464592</title>\n<polygon fill=\"none\" stroke=\"black\" points=\"0,-165.5 0,-201.5 200,-201.5 200,-165.5 0,-165.5\"/>\n<text text-anchor=\"middle\" x=\"16.5\" y=\"-179.8\" font-family=\"Times,serif\" font-size=\"14.00\">w1</text>\n<polyline fill=\"none\" stroke=\"black\" points=\"33,-165.5 33,-201.5 \"/>\n<text text-anchor=\"middle\" x=\"75.5\" y=\"-179.8\" font-family=\"Times,serif\" font-size=\"14.00\">data &#45;3.0000</text>\n<polyline fill=\"none\" stroke=\"black\" points=\"118,-165.5 118,-201.5 \"/>\n<text text-anchor=\"middle\" x=\"159\" y=\"-179.8\" font-family=\"Times,serif\" font-size=\"14.00\">grad 1.0000</text>\n</g>\n<!-- 139193863629136* -->\n<g id=\"node12\" class=\"node\">\n<title>139193863629136*</title>\n<ellipse fill=\"none\" stroke=\"black\" cx=\"263\" cy=\"-128.5\" rx=\"27\" ry=\"18\"/>\n<text text-anchor=\"middle\" x=\"263\" y=\"-124.8\" font-family=\"Times,serif\" font-size=\"14.00\">*</text>\n</g>\n<!-- 139193863464592&#45;&gt;139193863629136* -->\n<g id=\"edge8\" class=\"edge\">\n<title>139193863464592&#45;&gt;139193863629136*</title>\n<path fill=\"none\" stroke=\"black\" d=\"M172.53,-165.44C181.84,-162.67 191.2,-159.67 200,-156.5 210.53,-152.71 221.75,-147.9 231.72,-143.33\"/>\n<polygon fill=\"black\" stroke=\"black\" points=\"233.25,-146.48 240.82,-139.07 230.28,-140.14 233.25,-146.48\"/>\n</g>\n<!-- 139193863631824 -->\n<g id=\"node7\" class=\"node\">\n<title>139193863631824</title>\n<polygon fill=\"none\" stroke=\"black\" points=\"703,-137.5 703,-173.5 888,-173.5 888,-137.5 703,-137.5\"/>\n<text text-anchor=\"middle\" x=\"714.5\" y=\"-151.8\" font-family=\"Times,serif\" font-size=\"14.00\">b</text>\n<polyline fill=\"none\" stroke=\"black\" points=\"726,-137.5 726,-173.5 \"/>\n<text text-anchor=\"middle\" x=\"766\" y=\"-151.8\" font-family=\"Times,serif\" font-size=\"14.00\">data 6.8814</text>\n<polyline fill=\"none\" stroke=\"black\" points=\"806,-137.5 806,-173.5 \"/>\n<text text-anchor=\"middle\" x=\"847\" y=\"-151.8\" font-family=\"Times,serif\" font-size=\"14.00\">grad 0.5000</text>\n</g>\n<!-- 139193863631824&#45;&gt;139193863622544+ -->\n<g id=\"edge14\" class=\"edge\">\n<title>139193863631824&#45;&gt;139193863622544+</title>\n<path fill=\"none\" stroke=\"black\" d=\"M888.12,-142.03C910.59,-138.73 933.33,-135.39 951.33,-132.74\"/>\n<polygon fill=\"black\" stroke=\"black\" points=\"951.96,-136.19 961.34,-131.27 950.94,-129.26 951.96,-136.19\"/>\n</g>\n<!-- 139193863633104 -->\n<g id=\"node8\" class=\"node\">\n<title>139193863633104</title>\n<polygon fill=\"none\" stroke=\"black\" points=\"1362,-109.5 1362,-145.5 1547,-145.5 1547,-109.5 1362,-109.5\"/>\n<text text-anchor=\"middle\" x=\"1373.5\" y=\"-123.8\" font-family=\"Times,serif\" font-size=\"14.00\">o</text>\n<polyline fill=\"none\" stroke=\"black\" points=\"1385,-109.5 1385,-145.5 \"/>\n<text text-anchor=\"middle\" x=\"1425\" y=\"-123.8\" font-family=\"Times,serif\" font-size=\"14.00\">data 0.7071</text>\n<polyline fill=\"none\" stroke=\"black\" points=\"1465,-109.5 1465,-145.5 \"/>\n<text text-anchor=\"middle\" x=\"1506\" y=\"-123.8\" font-family=\"Times,serif\" font-size=\"14.00\">grad 1.0000</text>\n</g>\n<!-- 139193863633104tanh -->\n<g id=\"node9\" class=\"node\">\n<title>139193863633104tanh</title>\n<ellipse fill=\"none\" stroke=\"black\" cx=\"1299\" cy=\"-127.5\" rx=\"27\" ry=\"18\"/>\n<text text-anchor=\"middle\" x=\"1299\" y=\"-123.8\" font-family=\"Times,serif\" font-size=\"14.00\">tanh</text>\n</g>\n<!-- 139193863633104tanh&#45;&gt;139193863633104 -->\n<g id=\"edge3\" class=\"edge\">\n<title>139193863633104tanh&#45;&gt;139193863633104</title>\n<path fill=\"none\" stroke=\"black\" d=\"M1326.04,-127.5C1333.58,-127.5 1342.3,-127.5 1351.57,-127.5\"/>\n<polygon fill=\"black\" stroke=\"black\" points=\"1351.81,-131 1361.81,-127.5 1351.81,-124 1351.81,-131\"/>\n</g>\n<!-- 139193863459600 -->\n<g id=\"node10\" class=\"node\">\n<title>139193863459600</title>\n<polygon fill=\"none\" stroke=\"black\" points=\"4,-0.5 4,-36.5 196,-36.5 196,-0.5 4,-0.5\"/>\n<text text-anchor=\"middle\" x=\"19\" y=\"-14.8\" font-family=\"Times,serif\" font-size=\"14.00\">x2</text>\n<polyline fill=\"none\" stroke=\"black\" points=\"34,-0.5 34,-36.5 \"/>\n<text text-anchor=\"middle\" x=\"74\" y=\"-14.8\" font-family=\"Times,serif\" font-size=\"14.00\">data 0.0000</text>\n<polyline fill=\"none\" stroke=\"black\" points=\"114,-0.5 114,-36.5 \"/>\n<text text-anchor=\"middle\" x=\"155\" y=\"-14.8\" font-family=\"Times,serif\" font-size=\"14.00\">grad 0.5000</text>\n</g>\n<!-- 139193863459600&#45;&gt;139193863626256* -->\n<g id=\"edge7\" class=\"edge\">\n<title>139193863459600&#45;&gt;139193863626256*</title>\n<path fill=\"none\" stroke=\"black\" d=\"M169.28,-36.5C179.65,-39.61 190.16,-42.98 200,-46.5 210.28,-50.17 221.28,-54.74 231.11,-59.07\"/>\n<polygon fill=\"black\" stroke=\"black\" points=\"229.93,-62.37 240.48,-63.27 232.79,-55.99 229.93,-62.37\"/>\n</g>\n<!-- 139193863629136 -->\n<g id=\"node11\" class=\"node\">\n<title>139193863629136</title>\n<polygon fill=\"none\" stroke=\"black\" points=\"326,-110.5 326,-146.5 540,-146.5 540,-110.5 326,-110.5\"/>\n<text text-anchor=\"middle\" x=\"349.5\" y=\"-124.8\" font-family=\"Times,serif\" font-size=\"14.00\">x1w1</text>\n<polyline fill=\"none\" stroke=\"black\" points=\"373,-110.5 373,-146.5 \"/>\n<text text-anchor=\"middle\" x=\"415.5\" y=\"-124.8\" font-family=\"Times,serif\" font-size=\"14.00\">data &#45;6.0000</text>\n<polyline fill=\"none\" stroke=\"black\" points=\"458,-110.5 458,-146.5 \"/>\n<text text-anchor=\"middle\" x=\"499\" y=\"-124.8\" font-family=\"Times,serif\" font-size=\"14.00\">grad 0.5000</text>\n</g>\n<!-- 139193863629136&#45;&gt;139193863622288+ -->\n<g id=\"edge13\" class=\"edge\">\n<title>139193863629136&#45;&gt;139193863622288+</title>\n<path fill=\"none\" stroke=\"black\" d=\"M540.4,-110.77C549.72,-109.21 558.65,-107.72 566.68,-106.39\"/>\n<polygon fill=\"black\" stroke=\"black\" points=\"567.38,-109.82 576.66,-104.72 566.22,-102.91 567.38,-109.82\"/>\n</g>\n<!-- 139193863629136*&#45;&gt;139193863629136 -->\n<g id=\"edge4\" class=\"edge\">\n<title>139193863629136*&#45;&gt;139193863629136</title>\n<path fill=\"none\" stroke=\"black\" d=\"M290.25,-128.5C297.7,-128.5 306.34,-128.5 315.59,-128.5\"/>\n<polygon fill=\"black\" stroke=\"black\" points=\"315.84,-132 325.84,-128.5 315.84,-125 315.84,-132\"/>\n</g>\n<!-- 139193863622544 -->\n<g id=\"node13\" class=\"node\">\n<title>139193863622544</title>\n<polygon fill=\"none\" stroke=\"black\" points=\"1051,-109.5 1051,-145.5 1236,-145.5 1236,-109.5 1051,-109.5\"/>\n<text text-anchor=\"middle\" x=\"1062.5\" y=\"-123.8\" font-family=\"Times,serif\" font-size=\"14.00\">n</text>\n<polyline fill=\"none\" stroke=\"black\" points=\"1074,-109.5 1074,-145.5 \"/>\n<text text-anchor=\"middle\" x=\"1114\" y=\"-123.8\" font-family=\"Times,serif\" font-size=\"14.00\">data 0.8814</text>\n<polyline fill=\"none\" stroke=\"black\" points=\"1154,-109.5 1154,-145.5 \"/>\n<text text-anchor=\"middle\" x=\"1195\" y=\"-123.8\" font-family=\"Times,serif\" font-size=\"14.00\">grad 0.5000</text>\n</g>\n<!-- 139193863622544&#45;&gt;139193863633104tanh -->\n<g id=\"edge11\" class=\"edge\">\n<title>139193863622544&#45;&gt;139193863633104tanh</title>\n<path fill=\"none\" stroke=\"black\" d=\"M1236.01,-127.5C1245.01,-127.5 1253.74,-127.5 1261.66,-127.5\"/>\n<polygon fill=\"black\" stroke=\"black\" points=\"1261.91,-131 1271.91,-127.5 1261.91,-124 1261.91,-131\"/>\n</g>\n<!-- 139193863622544+&#45;&gt;139193863622544 -->\n<g id=\"edge5\" class=\"edge\">\n<title>139193863622544+&#45;&gt;139193863622544</title>\n<path fill=\"none\" stroke=\"black\" d=\"M1015.04,-127.5C1022.58,-127.5 1031.3,-127.5 1040.57,-127.5\"/>\n<polygon fill=\"black\" stroke=\"black\" points=\"1040.81,-131 1050.81,-127.5 1040.81,-124 1040.81,-131\"/>\n</g>\n<!-- 139193863463888 -->\n<g id=\"node15\" class=\"node\">\n<title>139193863463888</title>\n<polygon fill=\"none\" stroke=\"black\" points=\"2,-110.5 2,-146.5 198,-146.5 198,-110.5 2,-110.5\"/>\n<text text-anchor=\"middle\" x=\"17\" y=\"-124.8\" font-family=\"Times,serif\" font-size=\"14.00\">x1</text>\n<polyline fill=\"none\" stroke=\"black\" points=\"32,-110.5 32,-146.5 \"/>\n<text text-anchor=\"middle\" x=\"72\" y=\"-124.8\" font-family=\"Times,serif\" font-size=\"14.00\">data 2.0000</text>\n<polyline fill=\"none\" stroke=\"black\" points=\"112,-110.5 112,-146.5 \"/>\n<text text-anchor=\"middle\" x=\"155\" y=\"-124.8\" font-family=\"Times,serif\" font-size=\"14.00\">grad &#45;1.5000</text>\n</g>\n<!-- 139193863463888&#45;&gt;139193863629136* -->\n<g id=\"edge6\" class=\"edge\">\n<title>139193863463888&#45;&gt;139193863629136*</title>\n<path fill=\"none\" stroke=\"black\" d=\"M198.37,-128.5C208.05,-128.5 217.4,-128.5 225.8,-128.5\"/>\n<polygon fill=\"black\" stroke=\"black\" points=\"225.91,-132 235.91,-128.5 225.91,-125 225.91,-132\"/>\n</g>\n</g>\n</svg>\n",
            "text/plain": [
              "<graphviz.graphs.Digraph at 0x7e9898ca8910>"
            ]
          },
          "metadata": {},
          "execution_count": 57
        }
      ]
    },
    {
      "cell_type": "code",
      "source": [
        "x1 = Value(2.0,label='x1')\n",
        "x2 = Value(0.0,label='x2')\n",
        "\n",
        "w1 = Value(-3.0,label='w1')\n",
        "w2 = Value(1.0,label='w2')\n",
        "\n",
        "b = Value(6.8813735870195432,label='b')\n",
        "\n",
        "x1w1 = x1*w1; x1w1.label = 'x1w1'\n",
        "x2w2 = x2*w2; x2w2.label = 'x2w2'\n",
        "x1w1x2w2 = x1w1 + x2w2; x1w1x2w2.label = 'x1w1 + x2w2'\n",
        "n = x1w1x2w2 + b; n.label = 'n'\n",
        "e = (2*n).exp()\n",
        "o = (e-1)/(e+1)\n",
        "o.label ='o'\n",
        "o.backward()\n",
        "draw_dot(o)"
      ],
      "metadata": {
        "colab": {
          "base_uri": "https://localhost:8080/",
          "height": 356
        },
        "id": "Flb3nxbhky2Y",
        "outputId": "2518e7b2-d51b-4135-e5e8-eddbe70ffdab"
      },
      "execution_count": null,
      "outputs": [
        {
          "output_type": "execute_result",
          "data": {
            "image/svg+xml": "<?xml version=\"1.0\" encoding=\"UTF-8\" standalone=\"no\"?>\n<!DOCTYPE svg PUBLIC \"-//W3C//DTD SVG 1.1//EN\"\n \"http://www.w3.org/Graphics/SVG/1.1/DTD/svg11.dtd\">\n<!-- Generated by graphviz version 2.43.0 (0)\n -->\n<!-- Title: %3 Pages: 1 -->\n<svg width=\"2924pt\" height=\"236pt\"\n viewBox=\"0.00 0.00 2924.00 236.00\" xmlns=\"http://www.w3.org/2000/svg\" xmlns:xlink=\"http://www.w3.org/1999/xlink\">\n<g id=\"graph0\" class=\"graph\" transform=\"scale(1 1) rotate(0) translate(4 232)\">\n<title>%3</title>\n<polygon fill=\"white\" stroke=\"transparent\" points=\"-4,4 -4,-232 2920,-232 2920,4 -4,4\"/>\n<!-- 139193865352208 -->\n<g id=\"node1\" class=\"node\">\n<title>139193865352208</title>\n<polygon fill=\"none\" stroke=\"black\" points=\"1052.5,-164.5 1052.5,-200.5 1234.5,-200.5 1234.5,-164.5 1052.5,-164.5\"/>\n<text text-anchor=\"middle\" x=\"1062.5\" y=\"-178.8\" font-family=\"Times,serif\" font-size=\"14.00\"> </text>\n<polyline fill=\"none\" stroke=\"black\" points=\"1072.5,-164.5 1072.5,-200.5 \"/>\n<text text-anchor=\"middle\" x=\"1112.5\" y=\"-178.8\" font-family=\"Times,serif\" font-size=\"14.00\">data 2.0000</text>\n<polyline fill=\"none\" stroke=\"black\" points=\"1152.5,-164.5 1152.5,-200.5 \"/>\n<text text-anchor=\"middle\" x=\"1193.5\" y=\"-178.8\" font-family=\"Times,serif\" font-size=\"14.00\">grad 0.2203</text>\n</g>\n<!-- 139193865351056* -->\n<g id=\"node24\" class=\"node\">\n<title>139193865351056*</title>\n<ellipse fill=\"none\" stroke=\"black\" cx=\"1299\" cy=\"-154.5\" rx=\"27\" ry=\"18\"/>\n<text text-anchor=\"middle\" x=\"1299\" y=\"-150.8\" font-family=\"Times,serif\" font-size=\"14.00\">*</text>\n</g>\n<!-- 139193865352208&#45;&gt;139193865351056* -->\n<g id=\"edge27\" class=\"edge\">\n<title>139193865352208&#45;&gt;139193865351056*</title>\n<path fill=\"none\" stroke=\"black\" d=\"M1234.68,-166.05C1244.61,-164.24 1254.23,-162.48 1262.84,-160.91\"/>\n<polygon fill=\"black\" stroke=\"black\" points=\"1263.6,-164.33 1272.81,-159.09 1262.35,-157.45 1263.6,-164.33\"/>\n</g>\n<!-- 139193865353232 -->\n<g id=\"node2\" class=\"node\">\n<title>139193865353232</title>\n<polygon fill=\"none\" stroke=\"black\" points=\"1051,-109.5 1051,-145.5 1236,-145.5 1236,-109.5 1051,-109.5\"/>\n<text text-anchor=\"middle\" x=\"1062.5\" y=\"-123.8\" font-family=\"Times,serif\" font-size=\"14.00\">n</text>\n<polyline fill=\"none\" stroke=\"black\" points=\"1074,-109.5 1074,-145.5 \"/>\n<text text-anchor=\"middle\" x=\"1114\" y=\"-123.8\" font-family=\"Times,serif\" font-size=\"14.00\">data 0.8814</text>\n<polyline fill=\"none\" stroke=\"black\" points=\"1154,-109.5 1154,-145.5 \"/>\n<text text-anchor=\"middle\" x=\"1195\" y=\"-123.8\" font-family=\"Times,serif\" font-size=\"14.00\">grad 0.5000</text>\n</g>\n<!-- 139193865353232&#45;&gt;139193865351056* -->\n<g id=\"edge12\" class=\"edge\">\n<title>139193865353232&#45;&gt;139193865351056*</title>\n<path fill=\"none\" stroke=\"black\" d=\"M1236.01,-143.6C1245.49,-145.26 1254.66,-146.88 1262.9,-148.33\"/>\n<polygon fill=\"black\" stroke=\"black\" points=\"1262.36,-151.78 1272.81,-150.07 1263.57,-144.89 1262.36,-151.78\"/>\n</g>\n<!-- 139193865353232+ -->\n<g id=\"node3\" class=\"node\">\n<title>139193865353232+</title>\n<ellipse fill=\"none\" stroke=\"black\" cx=\"988\" cy=\"-127.5\" rx=\"27\" ry=\"18\"/>\n<text text-anchor=\"middle\" x=\"988\" y=\"-123.8\" font-family=\"Times,serif\" font-size=\"14.00\">+</text>\n</g>\n<!-- 139193865353232+&#45;&gt;139193865353232 -->\n<g id=\"edge1\" class=\"edge\">\n<title>139193865353232+&#45;&gt;139193865353232</title>\n<path fill=\"none\" stroke=\"black\" d=\"M1015.04,-127.5C1022.58,-127.5 1031.3,-127.5 1040.57,-127.5\"/>\n<polygon fill=\"black\" stroke=\"black\" points=\"1040.81,-131 1050.81,-127.5 1040.81,-124 1040.81,-131\"/>\n</g>\n<!-- 139193863481936 -->\n<g id=\"node4\" class=\"node\">\n<title>139193863481936</title>\n<polygon fill=\"none\" stroke=\"black\" points=\"2731,-135.5 2731,-171.5 2916,-171.5 2916,-135.5 2731,-135.5\"/>\n<text text-anchor=\"middle\" x=\"2742.5\" y=\"-149.8\" font-family=\"Times,serif\" font-size=\"14.00\">o</text>\n<polyline fill=\"none\" stroke=\"black\" points=\"2754,-135.5 2754,-171.5 \"/>\n<text text-anchor=\"middle\" x=\"2794\" y=\"-149.8\" font-family=\"Times,serif\" font-size=\"14.00\">data 0.7071</text>\n<polyline fill=\"none\" stroke=\"black\" points=\"2834,-135.5 2834,-171.5 \"/>\n<text text-anchor=\"middle\" x=\"2875\" y=\"-149.8\" font-family=\"Times,serif\" font-size=\"14.00\">grad 1.0000</text>\n</g>\n<!-- 139193863481936* -->\n<g id=\"node5\" class=\"node\">\n<title>139193863481936*</title>\n<ellipse fill=\"none\" stroke=\"black\" cx=\"2668\" cy=\"-153.5\" rx=\"27\" ry=\"18\"/>\n<text text-anchor=\"middle\" x=\"2668\" y=\"-149.8\" font-family=\"Times,serif\" font-size=\"14.00\">*</text>\n</g>\n<!-- 139193863481936*&#45;&gt;139193863481936 -->\n<g id=\"edge2\" class=\"edge\">\n<title>139193863481936*&#45;&gt;139193863481936</title>\n<path fill=\"none\" stroke=\"black\" d=\"M2695.04,-153.5C2702.58,-153.5 2711.3,-153.5 2720.57,-153.5\"/>\n<polygon fill=\"black\" stroke=\"black\" points=\"2720.81,-157 2730.81,-153.5 2720.81,-150 2720.81,-157\"/>\n</g>\n<!-- 139193865351760 -->\n<g id=\"node6\" class=\"node\">\n<title>139193865351760</title>\n<polygon fill=\"none\" stroke=\"black\" points=\"703,-137.5 703,-173.5 888,-173.5 888,-137.5 703,-137.5\"/>\n<text text-anchor=\"middle\" x=\"714.5\" y=\"-151.8\" font-family=\"Times,serif\" font-size=\"14.00\">b</text>\n<polyline fill=\"none\" stroke=\"black\" points=\"726,-137.5 726,-173.5 \"/>\n<text text-anchor=\"middle\" x=\"766\" y=\"-151.8\" font-family=\"Times,serif\" font-size=\"14.00\">data 6.8814</text>\n<polyline fill=\"none\" stroke=\"black\" points=\"806,-137.5 806,-173.5 \"/>\n<text text-anchor=\"middle\" x=\"847\" y=\"-151.8\" font-family=\"Times,serif\" font-size=\"14.00\">grad 0.5000</text>\n</g>\n<!-- 139193865351760&#45;&gt;139193865353232+ -->\n<g id=\"edge19\" class=\"edge\">\n<title>139193865351760&#45;&gt;139193865353232+</title>\n<path fill=\"none\" stroke=\"black\" d=\"M888.12,-142.03C910.59,-138.73 933.33,-135.39 951.33,-132.74\"/>\n<polygon fill=\"black\" stroke=\"black\" points=\"951.96,-136.19 961.34,-131.27 950.94,-129.26 951.96,-136.19\"/>\n</g>\n<!-- 139193868459600 -->\n<g id=\"node7\" class=\"node\">\n<title>139193868459600</title>\n<polygon fill=\"none\" stroke=\"black\" points=\"1670.5,-81.5 1670.5,-117.5 1856.5,-117.5 1856.5,-81.5 1670.5,-81.5\"/>\n<text text-anchor=\"middle\" x=\"1680.5\" y=\"-95.8\" font-family=\"Times,serif\" font-size=\"14.00\"> </text>\n<polyline fill=\"none\" stroke=\"black\" points=\"1690.5,-81.5 1690.5,-117.5 \"/>\n<text text-anchor=\"middle\" x=\"1730.5\" y=\"-95.8\" font-family=\"Times,serif\" font-size=\"14.00\">data 1.0000</text>\n<polyline fill=\"none\" stroke=\"black\" points=\"1770.5,-81.5 1770.5,-117.5 \"/>\n<text text-anchor=\"middle\" x=\"1813.5\" y=\"-95.8\" font-family=\"Times,serif\" font-size=\"14.00\">grad &#45;0.1036</text>\n</g>\n<!-- 139193868461392+ -->\n<g id=\"node21\" class=\"node\">\n<title>139193868461392+</title>\n<ellipse fill=\"none\" stroke=\"black\" cx=\"1920\" cy=\"-126.5\" rx=\"27\" ry=\"18\"/>\n<text text-anchor=\"middle\" x=\"1920\" y=\"-122.8\" font-family=\"Times,serif\" font-size=\"14.00\">+</text>\n</g>\n<!-- 139193868459600&#45;&gt;139193868461392+ -->\n<g id=\"edge11\" class=\"edge\">\n<title>139193868459600&#45;&gt;139193868461392+</title>\n<path fill=\"none\" stroke=\"black\" d=\"M1856.6,-115.6C1866.15,-117.26 1875.37,-118.88 1883.68,-120.33\"/>\n<polygon fill=\"black\" stroke=\"black\" points=\"1883.2,-123.8 1893.65,-122.07 1884.4,-116.9 1883.2,-123.8\"/>\n</g>\n<!-- 139193863480464 -->\n<g id=\"node8\" class=\"node\">\n<title>139193863480464</title>\n<polygon fill=\"none\" stroke=\"black\" points=\"2423,-112.5 2423,-148.5 2605,-148.5 2605,-112.5 2423,-112.5\"/>\n<text text-anchor=\"middle\" x=\"2433\" y=\"-126.8\" font-family=\"Times,serif\" font-size=\"14.00\"> </text>\n<polyline fill=\"none\" stroke=\"black\" points=\"2443,-112.5 2443,-148.5 \"/>\n<text text-anchor=\"middle\" x=\"2483\" y=\"-126.8\" font-family=\"Times,serif\" font-size=\"14.00\">data 0.1464</text>\n<polyline fill=\"none\" stroke=\"black\" points=\"2523,-112.5 2523,-148.5 \"/>\n<text text-anchor=\"middle\" x=\"2564\" y=\"-126.8\" font-family=\"Times,serif\" font-size=\"14.00\">grad 4.8284</text>\n</g>\n<!-- 139193863480464&#45;&gt;139193863481936* -->\n<g id=\"edge15\" class=\"edge\">\n<title>139193863480464&#45;&gt;139193863481936*</title>\n<path fill=\"none\" stroke=\"black\" d=\"M2605.18,-144.15C2614.42,-145.54 2623.38,-146.9 2631.47,-148.12\"/>\n<polygon fill=\"black\" stroke=\"black\" points=\"2631.15,-151.61 2641.56,-149.65 2632.19,-144.69 2631.15,-151.61\"/>\n</g>\n<!-- 139193863480464**&#45;1 -->\n<g id=\"node9\" class=\"node\">\n<title>139193863480464**&#45;1</title>\n<ellipse fill=\"none\" stroke=\"black\" cx=\"2296\" cy=\"-126.5\" rx=\"27\" ry=\"18\"/>\n<text text-anchor=\"middle\" x=\"2296\" y=\"-122.8\" font-family=\"Times,serif\" font-size=\"14.00\">**&#45;1</text>\n</g>\n<!-- 139193863480464**&#45;1&#45;&gt;139193863480464 -->\n<g id=\"edge3\" class=\"edge\">\n<title>139193863480464**&#45;1&#45;&gt;139193863480464</title>\n<path fill=\"none\" stroke=\"black\" d=\"M2323.05,-126.98C2345.53,-127.4 2379.48,-128.03 2412.5,-128.64\"/>\n<polygon fill=\"black\" stroke=\"black\" points=\"2412.64,-132.14 2422.7,-128.83 2412.77,-125.14 2412.64,-132.14\"/>\n</g>\n<!-- 139193865344656 -->\n<g id=\"node10\" class=\"node\">\n<title>139193865344656</title>\n<polygon fill=\"none\" stroke=\"black\" points=\"1672.5,-136.5 1672.5,-172.5 1854.5,-172.5 1854.5,-136.5 1672.5,-136.5\"/>\n<text text-anchor=\"middle\" x=\"1682.5\" y=\"-150.8\" font-family=\"Times,serif\" font-size=\"14.00\"> </text>\n<polyline fill=\"none\" stroke=\"black\" points=\"1692.5,-136.5 1692.5,-172.5 \"/>\n<text text-anchor=\"middle\" x=\"1732.5\" y=\"-150.8\" font-family=\"Times,serif\" font-size=\"14.00\">data 5.8284</text>\n<polyline fill=\"none\" stroke=\"black\" points=\"1772.5,-136.5 1772.5,-172.5 \"/>\n<text text-anchor=\"middle\" x=\"1813.5\" y=\"-150.8\" font-family=\"Times,serif\" font-size=\"14.00\">grad 0.0429</text>\n</g>\n<!-- 139193868466896+ -->\n<g id=\"node16\" class=\"node\">\n<title>139193868466896+</title>\n<ellipse fill=\"none\" stroke=\"black\" cx=\"1920\" cy=\"-181.5\" rx=\"27\" ry=\"18\"/>\n<text text-anchor=\"middle\" x=\"1920\" y=\"-177.8\" font-family=\"Times,serif\" font-size=\"14.00\">+</text>\n</g>\n<!-- 139193865344656&#45;&gt;139193868466896+ -->\n<g id=\"edge28\" class=\"edge\">\n<title>139193865344656&#45;&gt;139193868466896+</title>\n<path fill=\"none\" stroke=\"black\" d=\"M1854.82,-170.28C1865.07,-172.08 1875.01,-173.81 1883.88,-175.36\"/>\n<polygon fill=\"black\" stroke=\"black\" points=\"1883.3,-178.81 1893.75,-177.09 1884.5,-171.92 1883.3,-178.81\"/>\n</g>\n<!-- 139193865344656&#45;&gt;139193868461392+ -->\n<g id=\"edge23\" class=\"edge\">\n<title>139193865344656&#45;&gt;139193868461392+</title>\n<path fill=\"none\" stroke=\"black\" d=\"M1854.82,-138.13C1865.07,-136.27 1875.01,-134.47 1883.88,-132.87\"/>\n<polygon fill=\"black\" stroke=\"black\" points=\"1884.54,-136.3 1893.75,-131.08 1883.29,-129.42 1884.54,-136.3\"/>\n</g>\n<!-- 139193865344656exp -->\n<g id=\"node11\" class=\"node\">\n<title>139193865344656exp</title>\n<ellipse fill=\"none\" stroke=\"black\" cx=\"1607\" cy=\"-154.5\" rx=\"27\" ry=\"18\"/>\n<text text-anchor=\"middle\" x=\"1607\" y=\"-150.8\" font-family=\"Times,serif\" font-size=\"14.00\">exp</text>\n</g>\n<!-- 139193865344656exp&#45;&gt;139193865344656 -->\n<g id=\"edge4\" class=\"edge\">\n<title>139193865344656exp&#45;&gt;139193865344656</title>\n<path fill=\"none\" stroke=\"black\" d=\"M1634.21,-154.5C1642.34,-154.5 1651.85,-154.5 1661.94,-154.5\"/>\n<polygon fill=\"black\" stroke=\"black\" points=\"1662.19,-158 1672.19,-154.5 1662.19,-151 1662.19,-158\"/>\n</g>\n<!-- 139193863599312 -->\n<g id=\"node12\" class=\"node\">\n<title>139193863599312</title>\n<polygon fill=\"none\" stroke=\"black\" points=\"4,-165.5 4,-201.5 196,-201.5 196,-165.5 4,-165.5\"/>\n<text text-anchor=\"middle\" x=\"19\" y=\"-179.8\" font-family=\"Times,serif\" font-size=\"14.00\">x2</text>\n<polyline fill=\"none\" stroke=\"black\" points=\"34,-165.5 34,-201.5 \"/>\n<text text-anchor=\"middle\" x=\"74\" y=\"-179.8\" font-family=\"Times,serif\" font-size=\"14.00\">data 0.0000</text>\n<polyline fill=\"none\" stroke=\"black\" points=\"114,-165.5 114,-201.5 \"/>\n<text text-anchor=\"middle\" x=\"155\" y=\"-179.8\" font-family=\"Times,serif\" font-size=\"14.00\">grad 0.5000</text>\n</g>\n<!-- 139193865347344* -->\n<g id=\"node18\" class=\"node\">\n<title>139193865347344*</title>\n<ellipse fill=\"none\" stroke=\"black\" cx=\"263\" cy=\"-128.5\" rx=\"27\" ry=\"18\"/>\n<text text-anchor=\"middle\" x=\"263\" y=\"-124.8\" font-family=\"Times,serif\" font-size=\"14.00\">*</text>\n</g>\n<!-- 139193863599312&#45;&gt;139193865347344* -->\n<g id=\"edge26\" class=\"edge\">\n<title>139193863599312&#45;&gt;139193865347344*</title>\n<path fill=\"none\" stroke=\"black\" d=\"M172.53,-165.44C181.84,-162.67 191.2,-159.67 200,-156.5 210.53,-152.71 221.75,-147.9 231.72,-143.33\"/>\n<polygon fill=\"black\" stroke=\"black\" points=\"233.25,-146.48 240.82,-139.07 230.28,-140.14 233.25,-146.48\"/>\n</g>\n<!-- 139193865345232 -->\n<g id=\"node13\" class=\"node\">\n<title>139193865345232</title>\n<polygon fill=\"none\" stroke=\"black\" points=\"2.5,-110.5 2.5,-146.5 197.5,-146.5 197.5,-110.5 2.5,-110.5\"/>\n<text text-anchor=\"middle\" x=\"19\" y=\"-124.8\" font-family=\"Times,serif\" font-size=\"14.00\">w2</text>\n<polyline fill=\"none\" stroke=\"black\" points=\"35.5,-110.5 35.5,-146.5 \"/>\n<text text-anchor=\"middle\" x=\"75.5\" y=\"-124.8\" font-family=\"Times,serif\" font-size=\"14.00\">data 1.0000</text>\n<polyline fill=\"none\" stroke=\"black\" points=\"115.5,-110.5 115.5,-146.5 \"/>\n<text text-anchor=\"middle\" x=\"156.5\" y=\"-124.8\" font-family=\"Times,serif\" font-size=\"14.00\">grad 0.0000</text>\n</g>\n<!-- 139193865345232&#45;&gt;139193865347344* -->\n<g id=\"edge14\" class=\"edge\">\n<title>139193865345232&#45;&gt;139193865347344*</title>\n<path fill=\"none\" stroke=\"black\" d=\"M197.91,-128.5C207.65,-128.5 217.05,-128.5 225.52,-128.5\"/>\n<polygon fill=\"black\" stroke=\"black\" points=\"225.7,-132 235.7,-128.5 225.7,-125 225.7,-132\"/>\n</g>\n<!-- 139193863600592 -->\n<g id=\"node14\" class=\"node\">\n<title>139193863600592</title>\n<polygon fill=\"none\" stroke=\"black\" points=\"0,-55.5 0,-91.5 200,-91.5 200,-55.5 0,-55.5\"/>\n<text text-anchor=\"middle\" x=\"16.5\" y=\"-69.8\" font-family=\"Times,serif\" font-size=\"14.00\">w1</text>\n<polyline fill=\"none\" stroke=\"black\" points=\"33,-55.5 33,-91.5 \"/>\n<text text-anchor=\"middle\" x=\"75.5\" y=\"-69.8\" font-family=\"Times,serif\" font-size=\"14.00\">data &#45;3.0000</text>\n<polyline fill=\"none\" stroke=\"black\" points=\"118,-55.5 118,-91.5 \"/>\n<text text-anchor=\"middle\" x=\"159\" y=\"-69.8\" font-family=\"Times,serif\" font-size=\"14.00\">grad 1.0000</text>\n</g>\n<!-- 139193865345488* -->\n<g id=\"node28\" class=\"node\">\n<title>139193865345488*</title>\n<ellipse fill=\"none\" stroke=\"black\" cx=\"263\" cy=\"-73.5\" rx=\"27\" ry=\"18\"/>\n<text text-anchor=\"middle\" x=\"263\" y=\"-69.8\" font-family=\"Times,serif\" font-size=\"14.00\">*</text>\n</g>\n<!-- 139193863600592&#45;&gt;139193865345488* -->\n<g id=\"edge25\" class=\"edge\">\n<title>139193863600592&#45;&gt;139193865345488*</title>\n<path fill=\"none\" stroke=\"black\" d=\"M200.21,-73.5C209.2,-73.5 217.86,-73.5 225.7,-73.5\"/>\n<polygon fill=\"black\" stroke=\"black\" points=\"225.85,-77 235.85,-73.5 225.85,-70 225.85,-77\"/>\n</g>\n<!-- 139193868466896 -->\n<g id=\"node15\" class=\"node\">\n<title>139193868466896</title>\n<polygon fill=\"none\" stroke=\"black\" points=\"2205,-163.5 2205,-199.5 2387,-199.5 2387,-163.5 2205,-163.5\"/>\n<text text-anchor=\"middle\" x=\"2215\" y=\"-177.8\" font-family=\"Times,serif\" font-size=\"14.00\"> </text>\n<polyline fill=\"none\" stroke=\"black\" points=\"2225,-163.5 2225,-199.5 \"/>\n<text text-anchor=\"middle\" x=\"2265\" y=\"-177.8\" font-family=\"Times,serif\" font-size=\"14.00\">data 4.8284</text>\n<polyline fill=\"none\" stroke=\"black\" points=\"2305,-163.5 2305,-199.5 \"/>\n<text text-anchor=\"middle\" x=\"2346\" y=\"-177.8\" font-family=\"Times,serif\" font-size=\"14.00\">grad 0.1464</text>\n</g>\n<!-- 139193868466896&#45;&gt;139193863481936* -->\n<g id=\"edge13\" class=\"edge\">\n<title>139193868466896&#45;&gt;139193863481936*</title>\n<path fill=\"none\" stroke=\"black\" d=\"M2387.31,-174.9C2448.7,-170.37 2531.76,-164.19 2605,-158.5 2613.42,-157.85 2622.48,-157.13 2631.01,-156.44\"/>\n<polygon fill=\"black\" stroke=\"black\" points=\"2631.37,-159.92 2641.06,-155.63 2630.81,-152.94 2631.37,-159.92\"/>\n</g>\n<!-- 139193868466896+&#45;&gt;139193868466896 -->\n<g id=\"edge5\" class=\"edge\">\n<title>139193868466896+&#45;&gt;139193868466896</title>\n<path fill=\"none\" stroke=\"black\" d=\"M1947,-181.5C1997.46,-181.5 2111.06,-181.5 2194.81,-181.5\"/>\n<polygon fill=\"black\" stroke=\"black\" points=\"2194.87,-185 2204.87,-181.5 2194.87,-178 2194.87,-185\"/>\n</g>\n<!-- 139193865347344 -->\n<g id=\"node17\" class=\"node\">\n<title>139193865347344</title>\n<polygon fill=\"none\" stroke=\"black\" points=\"328.5,-110.5 328.5,-146.5 537.5,-146.5 537.5,-110.5 328.5,-110.5\"/>\n<text text-anchor=\"middle\" x=\"352\" y=\"-124.8\" font-family=\"Times,serif\" font-size=\"14.00\">x2w2</text>\n<polyline fill=\"none\" stroke=\"black\" points=\"375.5,-110.5 375.5,-146.5 \"/>\n<text text-anchor=\"middle\" x=\"415.5\" y=\"-124.8\" font-family=\"Times,serif\" font-size=\"14.00\">data 0.0000</text>\n<polyline fill=\"none\" stroke=\"black\" points=\"455.5,-110.5 455.5,-146.5 \"/>\n<text text-anchor=\"middle\" x=\"496.5\" y=\"-124.8\" font-family=\"Times,serif\" font-size=\"14.00\">grad 0.5000</text>\n</g>\n<!-- 139193865347536+ -->\n<g id=\"node26\" class=\"node\">\n<title>139193865347536+</title>\n<ellipse fill=\"none\" stroke=\"black\" cx=\"603\" cy=\"-100.5\" rx=\"27\" ry=\"18\"/>\n<text text-anchor=\"middle\" x=\"603\" y=\"-96.8\" font-family=\"Times,serif\" font-size=\"14.00\">+</text>\n</g>\n<!-- 139193865347344&#45;&gt;139193865347536+ -->\n<g id=\"edge21\" class=\"edge\">\n<title>139193865347344&#45;&gt;139193865347536+</title>\n<path fill=\"none\" stroke=\"black\" d=\"M537.53,-111.25C547.8,-109.53 557.66,-107.89 566.45,-106.43\"/>\n<polygon fill=\"black\" stroke=\"black\" points=\"567.3,-109.83 576.59,-104.74 566.15,-102.93 567.3,-109.83\"/>\n</g>\n<!-- 139193865347344*&#45;&gt;139193865347344 -->\n<g id=\"edge6\" class=\"edge\">\n<title>139193865347344*&#45;&gt;139193865347344</title>\n<path fill=\"none\" stroke=\"black\" d=\"M290.25,-128.5C298.43,-128.5 308.03,-128.5 318.31,-128.5\"/>\n<polygon fill=\"black\" stroke=\"black\" points=\"318.35,-132 328.35,-128.5 318.35,-125 318.35,-132\"/>\n</g>\n<!-- 139193863599888 -->\n<g id=\"node19\" class=\"node\">\n<title>139193863599888</title>\n<polygon fill=\"none\" stroke=\"black\" points=\"2,-0.5 2,-36.5 198,-36.5 198,-0.5 2,-0.5\"/>\n<text text-anchor=\"middle\" x=\"17\" y=\"-14.8\" font-family=\"Times,serif\" font-size=\"14.00\">x1</text>\n<polyline fill=\"none\" stroke=\"black\" points=\"32,-0.5 32,-36.5 \"/>\n<text text-anchor=\"middle\" x=\"72\" y=\"-14.8\" font-family=\"Times,serif\" font-size=\"14.00\">data 2.0000</text>\n<polyline fill=\"none\" stroke=\"black\" points=\"112,-0.5 112,-36.5 \"/>\n<text text-anchor=\"middle\" x=\"155\" y=\"-14.8\" font-family=\"Times,serif\" font-size=\"14.00\">grad &#45;1.5000</text>\n</g>\n<!-- 139193863599888&#45;&gt;139193865345488* -->\n<g id=\"edge24\" class=\"edge\">\n<title>139193863599888&#45;&gt;139193865345488*</title>\n<path fill=\"none\" stroke=\"black\" d=\"M172.53,-36.56C181.84,-39.33 191.2,-42.33 200,-45.5 210.53,-49.29 221.75,-54.1 231.72,-58.67\"/>\n<polygon fill=\"black\" stroke=\"black\" points=\"230.28,-61.86 240.82,-62.93 233.25,-55.52 230.28,-61.86\"/>\n</g>\n<!-- 139193868461392 -->\n<g id=\"node20\" class=\"node\">\n<title>139193868461392</title>\n<polygon fill=\"none\" stroke=\"black\" points=\"1983,-108.5 1983,-144.5 2169,-144.5 2169,-108.5 1983,-108.5\"/>\n<text text-anchor=\"middle\" x=\"1993\" y=\"-122.8\" font-family=\"Times,serif\" font-size=\"14.00\"> </text>\n<polyline fill=\"none\" stroke=\"black\" points=\"2003,-108.5 2003,-144.5 \"/>\n<text text-anchor=\"middle\" x=\"2043\" y=\"-122.8\" font-family=\"Times,serif\" font-size=\"14.00\">data 6.8284</text>\n<polyline fill=\"none\" stroke=\"black\" points=\"2083,-108.5 2083,-144.5 \"/>\n<text text-anchor=\"middle\" x=\"2126\" y=\"-122.8\" font-family=\"Times,serif\" font-size=\"14.00\">grad &#45;0.1036</text>\n</g>\n<!-- 139193868461392&#45;&gt;139193863480464**&#45;1 -->\n<g id=\"edge20\" class=\"edge\">\n<title>139193868461392&#45;&gt;139193863480464**&#45;1</title>\n<path fill=\"none\" stroke=\"black\" d=\"M2169.14,-126.5C2200.72,-126.5 2234.24,-126.5 2258.74,-126.5\"/>\n<polygon fill=\"black\" stroke=\"black\" points=\"2258.98,-130 2268.98,-126.5 2258.98,-123 2258.98,-130\"/>\n</g>\n<!-- 139193868461392+&#45;&gt;139193868461392 -->\n<g id=\"edge7\" class=\"edge\">\n<title>139193868461392+&#45;&gt;139193868461392</title>\n<path fill=\"none\" stroke=\"black\" d=\"M1947.12,-126.5C1954.62,-126.5 1963.29,-126.5 1972.5,-126.5\"/>\n<polygon fill=\"black\" stroke=\"black\" points=\"1972.69,-130 1982.69,-126.5 1972.69,-123 1972.69,-130\"/>\n</g>\n<!-- 139193865341392 -->\n<g id=\"node22\" class=\"node\">\n<title>139193865341392</title>\n<polygon fill=\"none\" stroke=\"black\" points=\"1670,-191.5 1670,-227.5 1857,-227.5 1857,-191.5 1670,-191.5\"/>\n<text text-anchor=\"middle\" x=\"1680\" y=\"-205.8\" font-family=\"Times,serif\" font-size=\"14.00\"> </text>\n<polyline fill=\"none\" stroke=\"black\" points=\"1690,-191.5 1690,-227.5 \"/>\n<text text-anchor=\"middle\" x=\"1732.5\" y=\"-205.8\" font-family=\"Times,serif\" font-size=\"14.00\">data &#45;1.0000</text>\n<polyline fill=\"none\" stroke=\"black\" points=\"1775,-191.5 1775,-227.5 \"/>\n<text text-anchor=\"middle\" x=\"1816\" y=\"-205.8\" font-family=\"Times,serif\" font-size=\"14.00\">grad 0.1464</text>\n</g>\n<!-- 139193865341392&#45;&gt;139193868466896+ -->\n<g id=\"edge22\" class=\"edge\">\n<title>139193865341392&#45;&gt;139193868466896+</title>\n<path fill=\"none\" stroke=\"black\" d=\"M1857.05,-192.73C1866.54,-191.01 1875.71,-189.35 1883.95,-187.85\"/>\n<polygon fill=\"black\" stroke=\"black\" points=\"1884.64,-191.28 1893.85,-186.06 1883.39,-184.4 1884.64,-191.28\"/>\n</g>\n<!-- 139193865351056 -->\n<g id=\"node23\" class=\"node\">\n<title>139193865351056</title>\n<polygon fill=\"none\" stroke=\"black\" points=\"1362,-136.5 1362,-172.5 1544,-172.5 1544,-136.5 1362,-136.5\"/>\n<text text-anchor=\"middle\" x=\"1372\" y=\"-150.8\" font-family=\"Times,serif\" font-size=\"14.00\"> </text>\n<polyline fill=\"none\" stroke=\"black\" points=\"1382,-136.5 1382,-172.5 \"/>\n<text text-anchor=\"middle\" x=\"1422\" y=\"-150.8\" font-family=\"Times,serif\" font-size=\"14.00\">data 1.7627</text>\n<polyline fill=\"none\" stroke=\"black\" points=\"1462,-136.5 1462,-172.5 \"/>\n<text text-anchor=\"middle\" x=\"1503\" y=\"-150.8\" font-family=\"Times,serif\" font-size=\"14.00\">grad 0.2500</text>\n</g>\n<!-- 139193865351056&#45;&gt;139193865344656exp -->\n<g id=\"edge16\" class=\"edge\">\n<title>139193865351056&#45;&gt;139193865344656exp</title>\n<path fill=\"none\" stroke=\"black\" d=\"M1544.18,-154.5C1553.14,-154.5 1561.83,-154.5 1569.73,-154.5\"/>\n<polygon fill=\"black\" stroke=\"black\" points=\"1569.96,-158 1579.96,-154.5 1569.96,-151 1569.96,-158\"/>\n</g>\n<!-- 139193865351056*&#45;&gt;139193865351056 -->\n<g id=\"edge8\" class=\"edge\">\n<title>139193865351056*&#45;&gt;139193865351056</title>\n<path fill=\"none\" stroke=\"black\" d=\"M1326.13,-154.5C1333.67,-154.5 1342.39,-154.5 1351.64,-154.5\"/>\n<polygon fill=\"black\" stroke=\"black\" points=\"1351.87,-158 1361.87,-154.5 1351.87,-151 1351.87,-158\"/>\n</g>\n<!-- 139193865347536 -->\n<g id=\"node25\" class=\"node\">\n<title>139193865347536</title>\n<polygon fill=\"none\" stroke=\"black\" points=\"666,-82.5 666,-118.5 925,-118.5 925,-82.5 666,-82.5\"/>\n<text text-anchor=\"middle\" x=\"712\" y=\"-96.8\" font-family=\"Times,serif\" font-size=\"14.00\">x1w1 + x2w2</text>\n<polyline fill=\"none\" stroke=\"black\" points=\"758,-82.5 758,-118.5 \"/>\n<text text-anchor=\"middle\" x=\"800.5\" y=\"-96.8\" font-family=\"Times,serif\" font-size=\"14.00\">data &#45;6.0000</text>\n<polyline fill=\"none\" stroke=\"black\" points=\"843,-82.5 843,-118.5 \"/>\n<text text-anchor=\"middle\" x=\"884\" y=\"-96.8\" font-family=\"Times,serif\" font-size=\"14.00\">grad 0.5000</text>\n</g>\n<!-- 139193865347536&#45;&gt;139193865353232+ -->\n<g id=\"edge18\" class=\"edge\">\n<title>139193865347536&#45;&gt;139193865353232+</title>\n<path fill=\"none\" stroke=\"black\" d=\"M923.57,-118.51C933.55,-119.92 943,-121.26 951.42,-122.46\"/>\n<polygon fill=\"black\" stroke=\"black\" points=\"951.09,-125.95 961.48,-123.88 952.07,-119.01 951.09,-125.95\"/>\n</g>\n<!-- 139193865347536+&#45;&gt;139193865347536 -->\n<g id=\"edge9\" class=\"edge\">\n<title>139193865347536+&#45;&gt;139193865347536</title>\n<path fill=\"none\" stroke=\"black\" d=\"M630.09,-100.5C637.58,-100.5 646.3,-100.5 655.75,-100.5\"/>\n<polygon fill=\"black\" stroke=\"black\" points=\"655.84,-104 665.84,-100.5 655.84,-97 655.84,-104\"/>\n</g>\n<!-- 139193865345488 -->\n<g id=\"node27\" class=\"node\">\n<title>139193865345488</title>\n<polygon fill=\"none\" stroke=\"black\" points=\"326,-55.5 326,-91.5 540,-91.5 540,-55.5 326,-55.5\"/>\n<text text-anchor=\"middle\" x=\"349.5\" y=\"-69.8\" font-family=\"Times,serif\" font-size=\"14.00\">x1w1</text>\n<polyline fill=\"none\" stroke=\"black\" points=\"373,-55.5 373,-91.5 \"/>\n<text text-anchor=\"middle\" x=\"415.5\" y=\"-69.8\" font-family=\"Times,serif\" font-size=\"14.00\">data &#45;6.0000</text>\n<polyline fill=\"none\" stroke=\"black\" points=\"458,-55.5 458,-91.5 \"/>\n<text text-anchor=\"middle\" x=\"499\" y=\"-69.8\" font-family=\"Times,serif\" font-size=\"14.00\">grad 0.5000</text>\n</g>\n<!-- 139193865345488&#45;&gt;139193865347536+ -->\n<g id=\"edge17\" class=\"edge\">\n<title>139193865345488&#45;&gt;139193865347536+</title>\n<path fill=\"none\" stroke=\"black\" d=\"M540.4,-90.6C549.72,-92.1 558.65,-93.53 566.68,-94.82\"/>\n<polygon fill=\"black\" stroke=\"black\" points=\"566.24,-98.3 576.66,-96.43 567.35,-91.39 566.24,-98.3\"/>\n</g>\n<!-- 139193865345488*&#45;&gt;139193865345488 -->\n<g id=\"edge10\" class=\"edge\">\n<title>139193865345488*&#45;&gt;139193865345488</title>\n<path fill=\"none\" stroke=\"black\" d=\"M290.25,-73.5C297.7,-73.5 306.34,-73.5 315.59,-73.5\"/>\n<polygon fill=\"black\" stroke=\"black\" points=\"315.84,-77 325.84,-73.5 315.84,-70 315.84,-77\"/>\n</g>\n</g>\n</svg>\n",
            "text/plain": [
              "<graphviz.graphs.Digraph at 0x7e9898c9add0>"
            ]
          },
          "metadata": {},
          "execution_count": 58
        }
      ]
    },
    {
      "cell_type": "code",
      "source": [
        "import torch"
      ],
      "metadata": {
        "id": "d0f6E7YwuoYT"
      },
      "execution_count": null,
      "outputs": []
    },
    {
      "cell_type": "code",
      "source": [
        "x1 = torch.Tensor([2.0]).double()                ; x1.requires_grad = True\n",
        "x2 = torch.Tensor([0.0]).double()                ; x2.requires_grad = True\n",
        "w1 = torch.Tensor([-3.0]).double()               ; w1.requires_grad = True\n",
        "w2 = torch.Tensor([1.0]).double()                ; w2.requires_grad = True\n",
        "b = torch.Tensor([6.8813735870195432]).double()  ; b.requires_grad = True\n",
        "n = x1*w1 + x2*w2 + b\n",
        "o = torch.tanh(n)\n",
        "\n",
        "print(o.data.item())\n",
        "o.backward()\n",
        "\n",
        "print('---')\n",
        "print('x2', x2.grad.item())\n",
        "print('w2', w2.grad.item())\n",
        "print('x1', x1.grad.item())\n",
        "print('w1', w1.grad.item())"
      ],
      "metadata": {
        "colab": {
          "base_uri": "https://localhost:8080/"
        },
        "id": "Dwbcbqu-vfFW",
        "outputId": "c0603d11-c909-437b-9589-4cc592c15318"
      },
      "execution_count": null,
      "outputs": [
        {
          "output_type": "stream",
          "name": "stdout",
          "text": [
            "0.7071066904050358\n",
            "---\n",
            "x2 0.5000001283844369\n",
            "w2 0.0\n",
            "x1 -1.5000003851533106\n",
            "w1 1.0000002567688737\n"
          ]
        }
      ]
    },
    {
      "cell_type": "code",
      "source": [
        "class Neuron:\n",
        "\n",
        "  def __init__(self, nin):\n",
        "    self.w = [Value(random.uniform(-1,1)) for _ in range(nin)]\n",
        "    self.b = Value(random.uniform(-1,1))\n",
        "\n",
        "  def __call__(self, x):\n",
        "    # w * x + b\n",
        "    act = sum((wi*xi for wi, xi in zip(self.w, x)), self.b)\n",
        "    out = act.tanh()\n",
        "    return out\n",
        "\n",
        "  def parameters(self):\n",
        "    return self.w + [self.b]\n",
        "\n",
        "class Layer:\n",
        "\n",
        "  def __init__(self, nin, nout):\n",
        "    self.neurons = [Neuron(nin) for _ in range(nout)]\n",
        "\n",
        "  def __call__(self, x):\n",
        "    outs = [n(x) for n in self.neurons]\n",
        "    return outs[0] if len(outs) == 1 else outs\n",
        "\n",
        "  def parameters(self):\n",
        "    return [p for neuron in self.neurons for p in neuron.parameters()]\n",
        "\n",
        "class MLP:\n",
        "\n",
        "  def __init__(self, nin, nouts):\n",
        "    sz = [nin] + nouts\n",
        "    self.layers = [Layer(sz[i], sz[i+1]) for i in range(len(nouts))]\n",
        "\n",
        "  def __call__(self, x):\n",
        "    for layer in self.layers:\n",
        "      x = layer(x)\n",
        "    return x\n",
        "\n",
        "  def parameters(self):\n",
        "    return [p for layer in self.layers for p in layer.parameters()]\n",
        "\n"
      ],
      "metadata": {
        "id": "6F3IHLnMwg4i"
      },
      "execution_count": null,
      "outputs": []
    },
    {
      "cell_type": "code",
      "source": [
        "x = [2.0 ,3.0,-1]\n",
        "n = MLP(3,[4,4,1])\n",
        "n(x)"
      ],
      "metadata": {
        "colab": {
          "base_uri": "https://localhost:8080/"
        },
        "id": "qFsPEqW28wI6",
        "outputId": "c41aaf1f-2c18-4d1a-9e5c-6f610738b754"
      },
      "execution_count": null,
      "outputs": [
        {
          "output_type": "execute_result",
          "data": {
            "text/plain": [
              "value(data=0.5946539909470252)"
            ]
          },
          "metadata": {},
          "execution_count": 182
        }
      ]
    },
    {
      "cell_type": "code",
      "source": [
        "n.parameters()"
      ],
      "metadata": {
        "colab": {
          "base_uri": "https://localhost:8080/"
        },
        "id": "3YA73GvY1RJY",
        "outputId": "b4ed7401-ff39-4c1d-e1a0-477ceda2c2b0"
      },
      "execution_count": null,
      "outputs": [
        {
          "output_type": "execute_result",
          "data": {
            "text/plain": [
              "[value(data=0.11586251923677615),\n",
              " value(data=0.2139630829894319),\n",
              " value(data=-0.7493576219922333),\n",
              " value(data=-0.16923678989695512),\n",
              " value(data=0.5579482354029559),\n",
              " value(data=0.41335349335110716),\n",
              " value(data=-0.3456667178061612),\n",
              " value(data=-0.6595780881317586),\n",
              " value(data=-0.9636373637824689),\n",
              " value(data=-0.3272459531627694),\n",
              " value(data=-0.450448705535335),\n",
              " value(data=-0.5186687845008404),\n",
              " value(data=0.2705565864300039),\n",
              " value(data=-0.3744126043897127),\n",
              " value(data=0.9364312051535362),\n",
              " value(data=0.5158578462939332),\n",
              " value(data=-0.15347572966562062),\n",
              " value(data=-0.07798993680836697),\n",
              " value(data=0.12120786836949149),\n",
              " value(data=0.01014182702692712),\n",
              " value(data=0.13695060790403213),\n",
              " value(data=0.3967674399762606),\n",
              " value(data=-0.33775989435766585),\n",
              " value(data=-0.005166655603793924),\n",
              " value(data=0.4109732078549342),\n",
              " value(data=0.6193407234082751),\n",
              " value(data=-0.0762538854449335),\n",
              " value(data=-0.47353980273204366),\n",
              " value(data=0.46226445847479725),\n",
              " value(data=-0.6998067822711984),\n",
              " value(data=-0.721827264461157),\n",
              " value(data=-0.04838221198706427),\n",
              " value(data=-0.8487482600160288),\n",
              " value(data=0.18536562485039987),\n",
              " value(data=-0.8818236334169456),\n",
              " value(data=-0.38310479931754426),\n",
              " value(data=-0.8411753349637996),\n",
              " value(data=-0.49975701220287205),\n",
              " value(data=-0.5637305852446162),\n",
              " value(data=0.8414012776993558),\n",
              " value(data=0.7524640288450353)]"
            ]
          },
          "metadata": {},
          "execution_count": 183
        }
      ]
    },
    {
      "cell_type": "code",
      "source": [
        "xs = [\n",
        "  [2.0, 3.0, -1.0],\n",
        "  [3.0, -1.0, 0.5],\n",
        "  [0.5, 1.0, 1.0],\n",
        "  [1.0, 1.0, -1.0],\n",
        "]\n",
        "ys = [1.0, -1.0, -1.0, 1.0]\n"
      ],
      "metadata": {
        "id": "gJtRsI342k5d"
      },
      "execution_count": null,
      "outputs": []
    },
    {
      "cell_type": "code",
      "source": [
        "import numpy as np\n",
        "\n",
        "for k in range(30):\n",
        "  ypred = [n(x) for x in xs]\n",
        "  loss = np.sum(np.array([(yout - ygt) ** 2 for ygt, yout in zip(ys, ypred)]))\n",
        "\n",
        "  for p in n.parameters():\n",
        "    p.grad = 0.0\n",
        "  loss.backward()\n",
        "\n",
        "  for p in n.parameters():\n",
        "    p.data += -0.1 * p.grad\n",
        "\n",
        "  print(k,loss.data)\n"
      ],
      "metadata": {
        "colab": {
          "base_uri": "https://localhost:8080/"
        },
        "id": "t8IUXnJI4Gyt",
        "outputId": "a77aeb55-d726-4b6b-b8c3-c6b20275970d"
      },
      "execution_count": null,
      "outputs": [
        {
          "output_type": "stream",
          "name": "stdout",
          "text": [
            "0 0.009703724722027079\n",
            "1 0.009304700472792337\n",
            "2 0.008936584304158016\n",
            "3 0.008595943542800478\n",
            "4 0.008279833948177854\n",
            "5 0.007985715993571405\n",
            "6 0.007711387774982098\n",
            "7 0.007454930821458729\n",
            "8 0.007214666004729027\n",
            "9 0.0069891174202350425\n",
            "10 0.006776982608797356\n",
            "11 0.006577107858360306\n",
            "12 0.006388467603589228\n",
            "13 0.006210147152165018\n",
            "14 0.006041328128024803\n",
            "15 0.005881276146183184\n",
            "16 0.0057293303303307536\n",
            "17 0.0055848943598925515\n",
            "18 0.00544742879262588\n",
            "19 0.005316444455865155\n",
            "20 0.00519149673697843\n",
            "21 0.005072180633600512\n",
            "22 0.004958126448363994\n",
            "23 0.004848996032401425\n",
            "24 0.004744479497791243\n",
            "25 0.004644292332111069\n",
            "26 0.004548172858924316\n",
            "27 0.004455879996811166\n",
            "28 0.004367191276827222\n",
            "29 0.004281901084312677\n"
          ]
        }
      ]
    },
    {
      "cell_type": "code",
      "source": [
        "ypred"
      ],
      "metadata": {
        "colab": {
          "base_uri": "https://localhost:8080/"
        },
        "id": "iYBrTmyE_9dF",
        "outputId": "139fa4c2-b4cd-4795-fd40-3d311c94ddba"
      },
      "execution_count": null,
      "outputs": [
        {
          "output_type": "execute_result",
          "data": {
            "text/plain": [
              "[value(data=0.982567485383922),\n",
              " value(data=-0.9651202227967401),\n",
              " value(data=-0.9601091091123894),\n",
              " value(data=0.9657928883868192)]"
            ]
          },
          "metadata": {},
          "execution_count": 190
        }
      ]
    },
    {
      "cell_type": "code",
      "source": [],
      "metadata": {
        "id": "odmHRJdfIiis"
      },
      "execution_count": null,
      "outputs": []
    }
  ]
}